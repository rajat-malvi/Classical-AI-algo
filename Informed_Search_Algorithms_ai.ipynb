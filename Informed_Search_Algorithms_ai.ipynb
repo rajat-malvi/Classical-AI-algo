{
  "nbformat": 4,
  "nbformat_minor": 0,
  "metadata": {
    "colab": {
      "provenance": [],
      "authorship_tag": "ABX9TyM60yVGI9xK5WkeeL2G9lFC",
      "include_colab_link": true
    },
    "kernelspec": {
      "name": "python3",
      "display_name": "Python 3"
    },
    "language_info": {
      "name": "python"
    }
  },
  "cells": [
    {
      "cell_type": "markdown",
      "metadata": {
        "id": "view-in-github",
        "colab_type": "text"
      },
      "source": [
        "<a href=\"https://colab.research.google.com/github/rajat-malvi/Classical-AI-algo/blob/main/Informed_Search_Algorithms_ai.ipynb\" target=\"_parent\"><img src=\"https://colab.research.google.com/assets/colab-badge.svg\" alt=\"Open In Colab\"/></a>"
      ]
    },
    {
      "cell_type": "markdown",
      "source": [
        "# Greedy Best First Search"
      ],
      "metadata": {
        "id": "TgkF2ugjUcFl"
      }
    },
    {
      "cell_type": "code",
      "execution_count": 1,
      "metadata": {
        "id": "2y_ZVPsBTS7N",
        "colab": {
          "base_uri": "https://localhost:8080/"
        },
        "outputId": "8c7bf18e-5d3e-41f7-a44a-33397d1f12de"
      },
      "outputs": [
        {
          "output_type": "stream",
          "name": "stdout",
          "text": [
            "Arad -> Sibiu -> Fagaras -> Bucharest\n"
          ]
        }
      ],
      "source": [
        "heuristic= {\n",
        "    'Arad': 366,\n",
        "    'Bucharest': 0,\n",
        "    'Craiova': 160,\n",
        "    'Drobeta': 242,\n",
        "    'Eforie': 161,\n",
        "    'Fagaras': 176,\n",
        "    'Giurgiu': 77,\n",
        "    'Hirsova': 151,\n",
        "    'Iasi': 226,\n",
        "    'Lugoj': 244,\n",
        "    'Mehadia': 241,\n",
        "    'Neamt': 234,\n",
        "    'Oradea': 380,\n",
        "    'Pitesti': 100,\n",
        "    'Rimnicu Vilcea': 193,\n",
        "    'Sibiu': 253,\n",
        "    'Timisoara': 329,\n",
        "    'Urziceni': 80,\n",
        "    'Vaslui': 199,\n",
        "    'Zerind': 374\n",
        "}\n",
        "graph_arr={\n",
        "    \"Arad\":['Zerind', 'Timisoara', 'Sibiu'],\n",
        "    \"Sibiu\":['Arad',  'Oradea','Fagaras', 'Rimnicu Vilcea'],\n",
        "    'Fagaras':['Sibiu', 'Bucharest'],\n",
        "    'Bucharest':['Fagaras', 'Urziceni', 'Giurgiu', 'Pitesti'],\n",
        "    'Giurgiu':['Bucharest'],\n",
        "    'Urziceni':['Bucharest', 'Hirsova', 'Vaslui'],\n",
        "    'Oradea':['Zerind', 'Sibiu'],\n",
        "    'Craiova':['Drobeta','Pitesti','Rimnicu Vilcea'],\n",
        "    'Drobeta':['Craiova','Mehadia'],\n",
        "    'Eforie':['Hirsova'],\n",
        "    'Hirsova':['Eforie','Urziceni'],\n",
        "    'Iasi':['Neamt','Vaslui'],\n",
        "    'Lugoj':['Timisoara','Mehadia'],\n",
        "    'Mehadia':['Lugoj','Drobeta'],\n",
        "    'Neamt':['Iasi'],\n",
        "    'Pitesti':['Rimnicu Vilcea','Bucharest','Craiova'],\n",
        "    'Rimnicu Vilcea':['Sibiu','Pitesti','Craiova'],\n",
        "    'Timisoara':['Arad','Lugoj'],\n",
        "    'Vaslui':['Iasi','Urziceni'],\n",
        "    'Zerind':['Arad','Oradea']\n",
        "}\n",
        "\n",
        "def gready_Search(graph,heuristic,node):\n",
        "    visited_arr=[]\n",
        "\n",
        "    while heuristic[node]>0:\n",
        "        visited_arr.append(node)\n",
        "        min_value = heuristic[node]\n",
        "        min_value_node_name=''\n",
        "        for n in graph[node]:\n",
        "            if (n not in visited_arr) and (min_value > heuristic[n]):\n",
        "                min_value=heuristic[n]\n",
        "                min_value_node_name=n\n",
        "            elif (n not in visited_arr) and len(graph[node]) == 2:      # use when min_value < heuristic value\n",
        "                min_value_node_name=n\n",
        "        print(node,end= \" -> \")\n",
        "        # update new node\n",
        "        node = min_value_node_name\n",
        "    print(node)\n",
        "\n",
        "gready_Search(graph_arr,heuristic,\"Arad\")"
      ]
    },
    {
      "cell_type": "markdown",
      "source": [
        "#  A* search"
      ],
      "metadata": {
        "id": "SfE-ukP7Uihw"
      }
    },
    {
      "cell_type": "code",
      "source": [
        "# huristic values for Bucharest as destination\n",
        "heuristic= {\n",
        "    'Arad': 366,\n",
        "    'Bucharest': 0,\n",
        "    'Craiova': 160,\n",
        "    'Drobeta': 242,\n",
        "    'Eforie': 161,\n",
        "    'Fagaras': 176,\n",
        "    'Giurgiu': 77,\n",
        "    'Hirsova': 151,\n",
        "    'Iasi': 226,\n",
        "    'Lugoj': 244,\n",
        "    'Mehadia': 241,\n",
        "    'Neamt': 234,\n",
        "    'Oradea': 380,\n",
        "    'Pitesti': 100,\n",
        "    'Rimnicu Vilcea': 193,\n",
        "    'Sibiu': 253,\n",
        "    'Timisoara': 329,\n",
        "    'Urziceni': 80,\n",
        "    'Vaslui': 199,\n",
        "    'Zerind': 374\n",
        "}\n",
        "\n",
        "graph = {\"Arad\": [('Zerind',75),('Timisoara',118),('Sibiu',140)],\n",
        "        'Sibiu':[('Arad',140),('Fagaras',99),('Oradea',151),('Rimnicu Vilcea',80)],\n",
        "        'Fagaras':[('Sibiu',99),('Bucharest',211)],\n",
        "        'Bucharest':[(\"Fagaras\",211),('Urziceni',85),('Giurgiu',90),('Pitesti',101)],\n",
        "        'Giurgiu':[('Bucharest',90)],\n",
        "        'Urziceni':[('Bucharest',85),('Hirsova',98),('Vaslui',142)],\n",
        "        'Oradea':[('Zerind',71),('Sibiu',151)],\n",
        "        'Craiova':[('Drobeta',120),('Pitesti',138),('Rimnicu Vilcea',97)],\n",
        "        'Drobeta':[('Craiova',120),('Mehadia',75)],\n",
        "        'Eforie':[('Hirsova',86)],\n",
        "        'Hirsova':[('Eforie',86),('Urziceni',98)],\n",
        "        'Iasi':[('Neamt',87),('Vaslui',92)],\n",
        "        'Lugoj':[('Timisoara',111),('Mehadia',70)],\n",
        "        'Mehadia':[('Lugoj',70),('Drobeta',75)],\n",
        "        'Neamt':[('Iasi',87)],\n",
        "        'Pitesti':[('Rimnicu Vilcea',97),('Bucharest',101),('Craiova',138)],\n",
        "        'Rimnicu Vilcea':[('Sibiu',80),('Pitesti',97),('Craiova',146)],\n",
        "        'Timisoara':[('Arad',118),('Lugoj',111)],\n",
        "        'Vaslui':[('Iasi',92),('Urziceni',142)],\n",
        "        'Zerind':[('Arad',75),('Oradea',71)]\n",
        "        }\n",
        "\n",
        "def A_star_algo(graph,heuristic,start):\n",
        "        # it follow f(x)= g(x)+h(x)\n",
        "        visited_arr = []\n",
        "        actual_cost = 0\n",
        "        current = start\n",
        "        while heuristic[current]>0:\n",
        "                visited_arr.append(current)\n",
        "\n",
        "                min_value = 100000  # min value should be greater number\n",
        "                min_value_node_name= ''\n",
        "                for node in graph[current]:\n",
        "\n",
        "                        stimate_value = heuristic[node[0]] + node[1]\n",
        "                        # print(min_value, stimate_value)\n",
        "                        if (node[0] not in visited_arr) and (min_value > stimate_value):\n",
        "                                min_value = stimate_value\n",
        "                                min_value_node_name=node[0]\n",
        "\n",
        "                        elif (node[0] not in visited_arr) and len(graph[current]) == 2:\n",
        "                                min_value_node_name=node[0]\n",
        "\n",
        "                print(current,end= \" -> \")\n",
        "                # update new node\n",
        "                current = min_value_node_name\n",
        "\n",
        "        print(current)\n",
        "\n",
        "\n",
        "A_star_algo(graph,heuristic,\"Arad\")"
      ],
      "metadata": {
        "colab": {
          "base_uri": "https://localhost:8080/"
        },
        "id": "u3F7_8J7UkMZ",
        "outputId": "2696d8f3-a796-48c1-eff4-95e372b829aa"
      },
      "execution_count": 2,
      "outputs": [
        {
          "output_type": "stream",
          "name": "stdout",
          "text": [
            "Arad -> Sibiu -> Rimnicu Vilcea -> Pitesti -> Bucharest\n"
          ]
        }
      ]
    },
    {
      "cell_type": "code",
      "source": [],
      "metadata": {
        "id": "6V7MU8fdVHN-"
      },
      "execution_count": null,
      "outputs": []
    }
  ]
}