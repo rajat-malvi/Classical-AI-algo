{
  "nbformat": 4,
  "nbformat_minor": 0,
  "metadata": {
    "colab": {
      "provenance": [],
      "authorship_tag": "ABX9TyMwcDlhcNO0GHmBJgCPYCyB",
      "include_colab_link": true
    },
    "kernelspec": {
      "name": "python3",
      "display_name": "Python 3"
    },
    "language_info": {
      "name": "python"
    }
  },
  "cells": [
    {
      "cell_type": "markdown",
      "metadata": {
        "id": "view-in-github",
        "colab_type": "text"
      },
      "source": [
        "<a href=\"https://colab.research.google.com/github/rajat-malvi/Classical-AI-algo/blob/main/Supervised-learning/naiveBayes.ipynb\" target=\"_parent\"><img src=\"https://colab.research.google.com/assets/colab-badge.svg\" alt=\"Open In Colab\"/></a>"
      ]
    },
    {
      "cell_type": "markdown",
      "source": [
        "\n",
        "TO DOs for this week:\n",
        "\n",
        "1. Create a GitHub repo for this AI course (private), and keep updating your work there on a weekly basis.\n",
        "\n",
        "2. Write a code to implement the Naive Bayes algo on your own.\n",
        "\n",
        "3. Explore the Naive Bayes module in sklearn, and compare it with your own code results.\n",
        "\n",
        "4. Write a code that takes a list of actual output values (0s and 1s) and another list of predicted values (again 0s and 1s), and computes the following statistics: accuracy, TP, TN, FP, FN, Recall, Precision and F1 score. Compare your results with equivalent modules in sklearn."
      ],
      "metadata": {
        "id": "uzsVC7mp4EFg"
      }
    },
    {
      "cell_type": "code",
      "source": [
        "import pandas as pd\n",
        "df = pd.read_csv('./SMSSpamCollection.txt', sep='\\t', header=None, names=['Label', 'SMS'])\n",
        "df"
      ],
      "metadata": {
        "colab": {
          "base_uri": "https://localhost:8080/",
          "height": 424
        },
        "id": "OZcbJYKdbtPf",
        "outputId": "b49e46b0-fd31-48fb-a2ce-fa06a1a81a0d"
      },
      "execution_count": null,
      "outputs": [
        {
          "output_type": "execute_result",
          "data": {
            "text/plain": [
              "     Label                                                SMS\n",
              "0      ham  Go until jurong point, crazy.. Available only ...\n",
              "1      ham                      Ok lar... Joking wif u oni...\n",
              "2     spam  Free entry in 2 a wkly comp to win FA Cup fina...\n",
              "3      ham  U dun say so early hor... U c already then say...\n",
              "4      ham  Nah I don't think he goes to usf, he lives aro...\n",
              "...    ...                                                ...\n",
              "5567  spam  This is the 2nd time we have tried 2 contact u...\n",
              "5568   ham               Will ü b going to esplanade fr home?\n",
              "5569   ham  Pity, * was in mood for that. So...any other s...\n",
              "5570   ham  The guy did some bitching but I acted like i'd...\n",
              "5571   ham                         Rofl. Its true to its name\n",
              "\n",
              "[5572 rows x 2 columns]"
            ],
            "text/html": [
              "\n",
              "  <div id=\"df-7dab8fb5-3c6c-49ca-aa0f-12cc14e9c5d2\" class=\"colab-df-container\">\n",
              "    <div>\n",
              "<style scoped>\n",
              "    .dataframe tbody tr th:only-of-type {\n",
              "        vertical-align: middle;\n",
              "    }\n",
              "\n",
              "    .dataframe tbody tr th {\n",
              "        vertical-align: top;\n",
              "    }\n",
              "\n",
              "    .dataframe thead th {\n",
              "        text-align: right;\n",
              "    }\n",
              "</style>\n",
              "<table border=\"1\" class=\"dataframe\">\n",
              "  <thead>\n",
              "    <tr style=\"text-align: right;\">\n",
              "      <th></th>\n",
              "      <th>Label</th>\n",
              "      <th>SMS</th>\n",
              "    </tr>\n",
              "  </thead>\n",
              "  <tbody>\n",
              "    <tr>\n",
              "      <th>0</th>\n",
              "      <td>ham</td>\n",
              "      <td>Go until jurong point, crazy.. Available only ...</td>\n",
              "    </tr>\n",
              "    <tr>\n",
              "      <th>1</th>\n",
              "      <td>ham</td>\n",
              "      <td>Ok lar... Joking wif u oni...</td>\n",
              "    </tr>\n",
              "    <tr>\n",
              "      <th>2</th>\n",
              "      <td>spam</td>\n",
              "      <td>Free entry in 2 a wkly comp to win FA Cup fina...</td>\n",
              "    </tr>\n",
              "    <tr>\n",
              "      <th>3</th>\n",
              "      <td>ham</td>\n",
              "      <td>U dun say so early hor... U c already then say...</td>\n",
              "    </tr>\n",
              "    <tr>\n",
              "      <th>4</th>\n",
              "      <td>ham</td>\n",
              "      <td>Nah I don't think he goes to usf, he lives aro...</td>\n",
              "    </tr>\n",
              "    <tr>\n",
              "      <th>...</th>\n",
              "      <td>...</td>\n",
              "      <td>...</td>\n",
              "    </tr>\n",
              "    <tr>\n",
              "      <th>5567</th>\n",
              "      <td>spam</td>\n",
              "      <td>This is the 2nd time we have tried 2 contact u...</td>\n",
              "    </tr>\n",
              "    <tr>\n",
              "      <th>5568</th>\n",
              "      <td>ham</td>\n",
              "      <td>Will ü b going to esplanade fr home?</td>\n",
              "    </tr>\n",
              "    <tr>\n",
              "      <th>5569</th>\n",
              "      <td>ham</td>\n",
              "      <td>Pity, * was in mood for that. So...any other s...</td>\n",
              "    </tr>\n",
              "    <tr>\n",
              "      <th>5570</th>\n",
              "      <td>ham</td>\n",
              "      <td>The guy did some bitching but I acted like i'd...</td>\n",
              "    </tr>\n",
              "    <tr>\n",
              "      <th>5571</th>\n",
              "      <td>ham</td>\n",
              "      <td>Rofl. Its true to its name</td>\n",
              "    </tr>\n",
              "  </tbody>\n",
              "</table>\n",
              "<p>5572 rows × 2 columns</p>\n",
              "</div>\n",
              "    <div class=\"colab-df-buttons\">\n",
              "\n",
              "  <div class=\"colab-df-container\">\n",
              "    <button class=\"colab-df-convert\" onclick=\"convertToInteractive('df-7dab8fb5-3c6c-49ca-aa0f-12cc14e9c5d2')\"\n",
              "            title=\"Convert this dataframe to an interactive table.\"\n",
              "            style=\"display:none;\">\n",
              "\n",
              "  <svg xmlns=\"http://www.w3.org/2000/svg\" height=\"24px\" viewBox=\"0 -960 960 960\">\n",
              "    <path d=\"M120-120v-720h720v720H120Zm60-500h600v-160H180v160Zm220 220h160v-160H400v160Zm0 220h160v-160H400v160ZM180-400h160v-160H180v160Zm440 0h160v-160H620v160ZM180-180h160v-160H180v160Zm440 0h160v-160H620v160Z\"/>\n",
              "  </svg>\n",
              "    </button>\n",
              "\n",
              "  <style>\n",
              "    .colab-df-container {\n",
              "      display:flex;\n",
              "      gap: 12px;\n",
              "    }\n",
              "\n",
              "    .colab-df-convert {\n",
              "      background-color: #E8F0FE;\n",
              "      border: none;\n",
              "      border-radius: 50%;\n",
              "      cursor: pointer;\n",
              "      display: none;\n",
              "      fill: #1967D2;\n",
              "      height: 32px;\n",
              "      padding: 0 0 0 0;\n",
              "      width: 32px;\n",
              "    }\n",
              "\n",
              "    .colab-df-convert:hover {\n",
              "      background-color: #E2EBFA;\n",
              "      box-shadow: 0px 1px 2px rgba(60, 64, 67, 0.3), 0px 1px 3px 1px rgba(60, 64, 67, 0.15);\n",
              "      fill: #174EA6;\n",
              "    }\n",
              "\n",
              "    .colab-df-buttons div {\n",
              "      margin-bottom: 4px;\n",
              "    }\n",
              "\n",
              "    [theme=dark] .colab-df-convert {\n",
              "      background-color: #3B4455;\n",
              "      fill: #D2E3FC;\n",
              "    }\n",
              "\n",
              "    [theme=dark] .colab-df-convert:hover {\n",
              "      background-color: #434B5C;\n",
              "      box-shadow: 0px 1px 3px 1px rgba(0, 0, 0, 0.15);\n",
              "      filter: drop-shadow(0px 1px 2px rgba(0, 0, 0, 0.3));\n",
              "      fill: #FFFFFF;\n",
              "    }\n",
              "  </style>\n",
              "\n",
              "    <script>\n",
              "      const buttonEl =\n",
              "        document.querySelector('#df-7dab8fb5-3c6c-49ca-aa0f-12cc14e9c5d2 button.colab-df-convert');\n",
              "      buttonEl.style.display =\n",
              "        google.colab.kernel.accessAllowed ? 'block' : 'none';\n",
              "\n",
              "      async function convertToInteractive(key) {\n",
              "        const element = document.querySelector('#df-7dab8fb5-3c6c-49ca-aa0f-12cc14e9c5d2');\n",
              "        const dataTable =\n",
              "          await google.colab.kernel.invokeFunction('convertToInteractive',\n",
              "                                                    [key], {});\n",
              "        if (!dataTable) return;\n",
              "\n",
              "        const docLinkHtml = 'Like what you see? Visit the ' +\n",
              "          '<a target=\"_blank\" href=https://colab.research.google.com/notebooks/data_table.ipynb>data table notebook</a>'\n",
              "          + ' to learn more about interactive tables.';\n",
              "        element.innerHTML = '';\n",
              "        dataTable['output_type'] = 'display_data';\n",
              "        await google.colab.output.renderOutput(dataTable, element);\n",
              "        const docLink = document.createElement('div');\n",
              "        docLink.innerHTML = docLinkHtml;\n",
              "        element.appendChild(docLink);\n",
              "      }\n",
              "    </script>\n",
              "  </div>\n",
              "\n",
              "\n",
              "<div id=\"df-38387df4-1b15-43fd-b50c-c129140b2a03\">\n",
              "  <button class=\"colab-df-quickchart\" onclick=\"quickchart('df-38387df4-1b15-43fd-b50c-c129140b2a03')\"\n",
              "            title=\"Suggest charts\"\n",
              "            style=\"display:none;\">\n",
              "\n",
              "<svg xmlns=\"http://www.w3.org/2000/svg\" height=\"24px\"viewBox=\"0 0 24 24\"\n",
              "     width=\"24px\">\n",
              "    <g>\n",
              "        <path d=\"M19 3H5c-1.1 0-2 .9-2 2v14c0 1.1.9 2 2 2h14c1.1 0 2-.9 2-2V5c0-1.1-.9-2-2-2zM9 17H7v-7h2v7zm4 0h-2V7h2v10zm4 0h-2v-4h2v4z\"/>\n",
              "    </g>\n",
              "</svg>\n",
              "  </button>\n",
              "\n",
              "<style>\n",
              "  .colab-df-quickchart {\n",
              "      --bg-color: #E8F0FE;\n",
              "      --fill-color: #1967D2;\n",
              "      --hover-bg-color: #E2EBFA;\n",
              "      --hover-fill-color: #174EA6;\n",
              "      --disabled-fill-color: #AAA;\n",
              "      --disabled-bg-color: #DDD;\n",
              "  }\n",
              "\n",
              "  [theme=dark] .colab-df-quickchart {\n",
              "      --bg-color: #3B4455;\n",
              "      --fill-color: #D2E3FC;\n",
              "      --hover-bg-color: #434B5C;\n",
              "      --hover-fill-color: #FFFFFF;\n",
              "      --disabled-bg-color: #3B4455;\n",
              "      --disabled-fill-color: #666;\n",
              "  }\n",
              "\n",
              "  .colab-df-quickchart {\n",
              "    background-color: var(--bg-color);\n",
              "    border: none;\n",
              "    border-radius: 50%;\n",
              "    cursor: pointer;\n",
              "    display: none;\n",
              "    fill: var(--fill-color);\n",
              "    height: 32px;\n",
              "    padding: 0;\n",
              "    width: 32px;\n",
              "  }\n",
              "\n",
              "  .colab-df-quickchart:hover {\n",
              "    background-color: var(--hover-bg-color);\n",
              "    box-shadow: 0 1px 2px rgba(60, 64, 67, 0.3), 0 1px 3px 1px rgba(60, 64, 67, 0.15);\n",
              "    fill: var(--button-hover-fill-color);\n",
              "  }\n",
              "\n",
              "  .colab-df-quickchart-complete:disabled,\n",
              "  .colab-df-quickchart-complete:disabled:hover {\n",
              "    background-color: var(--disabled-bg-color);\n",
              "    fill: var(--disabled-fill-color);\n",
              "    box-shadow: none;\n",
              "  }\n",
              "\n",
              "  .colab-df-spinner {\n",
              "    border: 2px solid var(--fill-color);\n",
              "    border-color: transparent;\n",
              "    border-bottom-color: var(--fill-color);\n",
              "    animation:\n",
              "      spin 1s steps(1) infinite;\n",
              "  }\n",
              "\n",
              "  @keyframes spin {\n",
              "    0% {\n",
              "      border-color: transparent;\n",
              "      border-bottom-color: var(--fill-color);\n",
              "      border-left-color: var(--fill-color);\n",
              "    }\n",
              "    20% {\n",
              "      border-color: transparent;\n",
              "      border-left-color: var(--fill-color);\n",
              "      border-top-color: var(--fill-color);\n",
              "    }\n",
              "    30% {\n",
              "      border-color: transparent;\n",
              "      border-left-color: var(--fill-color);\n",
              "      border-top-color: var(--fill-color);\n",
              "      border-right-color: var(--fill-color);\n",
              "    }\n",
              "    40% {\n",
              "      border-color: transparent;\n",
              "      border-right-color: var(--fill-color);\n",
              "      border-top-color: var(--fill-color);\n",
              "    }\n",
              "    60% {\n",
              "      border-color: transparent;\n",
              "      border-right-color: var(--fill-color);\n",
              "    }\n",
              "    80% {\n",
              "      border-color: transparent;\n",
              "      border-right-color: var(--fill-color);\n",
              "      border-bottom-color: var(--fill-color);\n",
              "    }\n",
              "    90% {\n",
              "      border-color: transparent;\n",
              "      border-bottom-color: var(--fill-color);\n",
              "    }\n",
              "  }\n",
              "</style>\n",
              "\n",
              "  <script>\n",
              "    async function quickchart(key) {\n",
              "      const quickchartButtonEl =\n",
              "        document.querySelector('#' + key + ' button');\n",
              "      quickchartButtonEl.disabled = true;  // To prevent multiple clicks.\n",
              "      quickchartButtonEl.classList.add('colab-df-spinner');\n",
              "      try {\n",
              "        const charts = await google.colab.kernel.invokeFunction(\n",
              "            'suggestCharts', [key], {});\n",
              "      } catch (error) {\n",
              "        console.error('Error during call to suggestCharts:', error);\n",
              "      }\n",
              "      quickchartButtonEl.classList.remove('colab-df-spinner');\n",
              "      quickchartButtonEl.classList.add('colab-df-quickchart-complete');\n",
              "    }\n",
              "    (() => {\n",
              "      let quickchartButtonEl =\n",
              "        document.querySelector('#df-38387df4-1b15-43fd-b50c-c129140b2a03 button');\n",
              "      quickchartButtonEl.style.display =\n",
              "        google.colab.kernel.accessAllowed ? 'block' : 'none';\n",
              "    })();\n",
              "  </script>\n",
              "</div>\n",
              "\n",
              "  <div id=\"id_5345881c-49a6-498f-8f83-11f1dc2525e9\">\n",
              "    <style>\n",
              "      .colab-df-generate {\n",
              "        background-color: #E8F0FE;\n",
              "        border: none;\n",
              "        border-radius: 50%;\n",
              "        cursor: pointer;\n",
              "        display: none;\n",
              "        fill: #1967D2;\n",
              "        height: 32px;\n",
              "        padding: 0 0 0 0;\n",
              "        width: 32px;\n",
              "      }\n",
              "\n",
              "      .colab-df-generate:hover {\n",
              "        background-color: #E2EBFA;\n",
              "        box-shadow: 0px 1px 2px rgba(60, 64, 67, 0.3), 0px 1px 3px 1px rgba(60, 64, 67, 0.15);\n",
              "        fill: #174EA6;\n",
              "      }\n",
              "\n",
              "      [theme=dark] .colab-df-generate {\n",
              "        background-color: #3B4455;\n",
              "        fill: #D2E3FC;\n",
              "      }\n",
              "\n",
              "      [theme=dark] .colab-df-generate:hover {\n",
              "        background-color: #434B5C;\n",
              "        box-shadow: 0px 1px 3px 1px rgba(0, 0, 0, 0.15);\n",
              "        filter: drop-shadow(0px 1px 2px rgba(0, 0, 0, 0.3));\n",
              "        fill: #FFFFFF;\n",
              "      }\n",
              "    </style>\n",
              "    <button class=\"colab-df-generate\" onclick=\"generateWithVariable('df')\"\n",
              "            title=\"Generate code using this dataframe.\"\n",
              "            style=\"display:none;\">\n",
              "\n",
              "  <svg xmlns=\"http://www.w3.org/2000/svg\" height=\"24px\"viewBox=\"0 0 24 24\"\n",
              "       width=\"24px\">\n",
              "    <path d=\"M7,19H8.4L18.45,9,17,7.55,7,17.6ZM5,21V16.75L18.45,3.32a2,2,0,0,1,2.83,0l1.4,1.43a1.91,1.91,0,0,1,.58,1.4,1.91,1.91,0,0,1-.58,1.4L9.25,21ZM18.45,9,17,7.55Zm-12,3A5.31,5.31,0,0,0,4.9,8.1,5.31,5.31,0,0,0,1,6.5,5.31,5.31,0,0,0,4.9,4.9,5.31,5.31,0,0,0,6.5,1,5.31,5.31,0,0,0,8.1,4.9,5.31,5.31,0,0,0,12,6.5,5.46,5.46,0,0,0,6.5,12Z\"/>\n",
              "  </svg>\n",
              "    </button>\n",
              "    <script>\n",
              "      (() => {\n",
              "      const buttonEl =\n",
              "        document.querySelector('#id_5345881c-49a6-498f-8f83-11f1dc2525e9 button.colab-df-generate');\n",
              "      buttonEl.style.display =\n",
              "        google.colab.kernel.accessAllowed ? 'block' : 'none';\n",
              "\n",
              "      buttonEl.onclick = () => {\n",
              "        google.colab.notebook.generateWithVariable('df');\n",
              "      }\n",
              "      })();\n",
              "    </script>\n",
              "  </div>\n",
              "\n",
              "    </div>\n",
              "  </div>\n"
            ],
            "application/vnd.google.colaboratory.intrinsic+json": {
              "type": "dataframe",
              "variable_name": "df",
              "summary": "{\n  \"name\": \"df\",\n  \"rows\": 5572,\n  \"fields\": [\n    {\n      \"column\": \"Label\",\n      \"properties\": {\n        \"dtype\": \"category\",\n        \"num_unique_values\": 2,\n        \"samples\": [\n          \"spam\",\n          \"ham\"\n        ],\n        \"semantic_type\": \"\",\n        \"description\": \"\"\n      }\n    },\n    {\n      \"column\": \"SMS\",\n      \"properties\": {\n        \"dtype\": \"string\",\n        \"num_unique_values\": 5169,\n        \"samples\": [\n          \"K, makes sense, btw carlos is being difficult so you guys are gonna smoke while I go pick up the second batch and get gas\",\n          \"URGENT! Your mobile No *********** WON a \\u00a32,000 Bonus Caller Prize on 02/06/03! This is the 2nd attempt to reach YOU! Call 09066362220 ASAP! BOX97N7QP, 150ppm\"\n        ],\n        \"semantic_type\": \"\",\n        \"description\": \"\"\n      }\n    }\n  ]\n}"
            }
          },
          "metadata": {},
          "execution_count": 1
        }
      ]
    },
    {
      "cell_type": "code",
      "source": [
        "import re\n",
        "import nltk\n",
        "from nltk.tokenize import word_tokenize\n",
        "from nltk.corpus import stopwords\n",
        "\n",
        "# Download necessary NLTK data\n",
        "nltk.download('punkt')\n",
        "nltk.download('stopwords')\n",
        "\n",
        "def tokenization(sent):\n",
        "    # Use regular expression to remove unwanted characters\n",
        "    cleaned_sent = re.sub(r'[^a-zA-Z\\s]', '', sent)\n",
        "\n",
        "    # Tokenize the cleaned sentence\n",
        "    original_words = word_tokenize(cleaned_sent)\n",
        "\n",
        "    # Define stop words\n",
        "    stop_words = set(stopwords.words('english'))\n",
        "\n",
        "    # Filter out stop words\n",
        "    filtered_tokens = [word.lower() for word in original_words if word.lower() not in stop_words]\n",
        "\n",
        "    # Print results\n",
        "    # print(\"Original Tokens:\", original_words)\n",
        "    # print(\"Filtered Tokens:\", filtered_tokens)\n",
        "\n",
        "    return filtered_tokens\n",
        "\n",
        "# string = \"Text and Expressions: Use a relational database (like PostgreSQL) or a document store (like MongoDB) to store text and expressions. Store each chapter or section as a separate document/record with clear segmentation for headings, paragraphs, and inline expressions.\"\n",
        "\n",
        "# tokenization(string)\n"
      ],
      "metadata": {
        "colab": {
          "base_uri": "https://localhost:8080/"
        },
        "id": "QEmDKUfofLU8",
        "outputId": "209b0587-b968-46bf-ce7e-cc9c883265fd"
      },
      "execution_count": null,
      "outputs": [
        {
          "output_type": "stream",
          "name": "stderr",
          "text": [
            "[nltk_data] Downloading package punkt to /root/nltk_data...\n",
            "[nltk_data]   Unzipping tokenizers/punkt.zip.\n",
            "[nltk_data] Downloading package stopwords to /root/nltk_data...\n",
            "[nltk_data]   Unzipping corpora/stopwords.zip.\n"
          ]
        }
      ]
    },
    {
      "cell_type": "code",
      "source": [
        "#  probability of pos and neg\n",
        "dct = dict(df['Label'].value_counts())\n",
        "# dct\n",
        "\n",
        "prob_posi = dct['ham']/(dct['ham']+dct['spam'])\n",
        "print(prob_posi)\n",
        "prob_neg = 1- prob_posi\n",
        "print(prob_neg)"
      ],
      "metadata": {
        "colab": {
          "base_uri": "https://localhost:8080/"
        },
        "id": "lBkl-gznbrDu",
        "outputId": "f09f5a0c-931e-4c1e-e04a-ef4a40c2984a"
      },
      "execution_count": null,
      "outputs": [
        {
          "output_type": "stream",
          "name": "stdout",
          "text": [
            "0.8659368269921034\n",
            "0.1340631730078966\n"
          ]
        }
      ]
    },
    {
      "cell_type": "code",
      "source": [
        "dbDict = {}"
      ],
      "metadata": {
        "id": "HzsxOSwQYSn0"
      },
      "execution_count": null,
      "outputs": []
    },
    {
      "cell_type": "code",
      "source": [
        "# counting Store\n",
        "def train_data(df,splitor,dbDict):\n",
        "  # train_rainge= 5560\n",
        "  for index, row in df.iterrows():\n",
        "      if index > splitor:\n",
        "          break\n",
        "\n",
        "      label = row['Label']\n",
        "      text = row['SMS']\n",
        "\n",
        "      if label not in dbDict:\n",
        "          dbDict[label] = {}\n",
        "\n",
        "      words = tokenization(text)\n",
        "\n",
        "      for word in words:\n",
        "          if word not in dbDict[label]:\n",
        "              dbDict[label][word] = 0\n",
        "          dbDict[label][word] += 1\n",
        "\n",
        "\n",
        "  return dbDict"
      ],
      "metadata": {
        "id": "u-aGyaKddbs5"
      },
      "execution_count": null,
      "outputs": []
    },
    {
      "cell_type": "code",
      "source": [],
      "metadata": {
        "id": "w7KFc3ygYc63"
      },
      "execution_count": null,
      "outputs": []
    },
    {
      "cell_type": "code",
      "source": [
        "#  lang-chain module\n",
        "#  cromedb"
      ],
      "metadata": {
        "id": "lgFLsLVlPi8v"
      },
      "execution_count": null,
      "outputs": []
    },
    {
      "cell_type": "code",
      "source": [
        "#  probability of word\n",
        "# prob_come = dbDict['ham']['come']/len(dbDict['ham'].keys())\n",
        "# print(prob_come)"
      ],
      "metadata": {
        "id": "aqAmTDcDRZYo",
        "colab": {
          "base_uri": "https://localhost:8080/"
        },
        "outputId": "7b8b06f7-b082-43bd-e4f1-cb9a246f2a77"
      },
      "execution_count": null,
      "outputs": [
        {
          "output_type": "stream",
          "name": "stdout",
          "text": [
            "0.031267217630853994\n"
          ]
        }
      ]
    },
    {
      "cell_type": "code",
      "source": [
        "def computation(query_tockens,positive,dbDict,isPositive):\n",
        "  total_prob = positive\n",
        "  if isPositive:\n",
        "    val = 'ham'\n",
        "  else:\n",
        "    val = 'spam'\n",
        "\n",
        "  # total_words = len(dbDict[val].keys())\n",
        "  # word sum\n",
        "  total_words = 0\n",
        "  for i in dbDict[val].values():\n",
        "    total_words += i\n",
        "\n",
        "\n",
        "  for word in query_tockens:\n",
        "    if dbDict[val].get(word) is None:\n",
        "      continue\n",
        "    prob = dbDict[val][word]/total_words\n",
        "    total_prob *= prob\n",
        "\n",
        "  return total_prob\n"
      ],
      "metadata": {
        "id": "kakb-tSwjlJD"
      },
      "execution_count": null,
      "outputs": []
    },
    {
      "cell_type": "code",
      "source": [
        "# naive bayes algo\n",
        "def naive_bayes(df,splitor):\n",
        "  # responseArray = []\n",
        "  dbDict= {}\n",
        "  dbDict = train_data(df,splitor,dbDict)\n",
        "\n",
        "  dct = dict(df['Label'].value_counts())\n",
        "  # print(dct)\n",
        "  prob_positive = dct['ham']/(dct['ham']+dct['spam'])\n",
        "  prob_negative = dct['spam']/(dct['ham']+dct['spam'])\n",
        "\n",
        "  # print(prob_positive,prob_negative)\n",
        "\n",
        "  for i in range(splitor,len(df)):\n",
        "    query  = df['SMS'][i]\n",
        "    query_word = tokenization(query)\n",
        "\n",
        "    positive_computation = computation(query_word,prob_positive,dbDict,True)\n",
        "    negative_computation = computation(query_word,prob_negative,dbDict,False)\n",
        "\n",
        "    # print(positive_computation,negative_computation)\n",
        "    if positive_computation > negative_computation:\n",
        "        print(df['Label'][i], ' ham ', df['SMS'][i])\n",
        "    elif positive_computation < negative_computation:\n",
        "        print(df['Label'][i], ' spam ',df['SMS'][i])\n"
      ],
      "metadata": {
        "id": "0S1T-916iImp"
      },
      "execution_count": null,
      "outputs": []
    },
    {
      "cell_type": "code",
      "source": [
        "naive_bayes(df,5500)"
      ],
      "metadata": {
        "colab": {
          "base_uri": "https://localhost:8080/"
        },
        "id": "zMVjoPslWb7A",
        "outputId": "8800330e-c4b5-4e3e-d4d0-c387ad482199"
      },
      "execution_count": null,
      "outputs": [
        {
          "output_type": "stream",
          "name": "stdout",
          "text": [
            "ham  spam  Love has one law; Make happy the person you love. In the same way friendship has one law; Never make ur friend feel alone until you are alive.... Gud night\n",
            "spam  ham  PRIVATE! Your 2003 Account Statement for 07808247860 shows 800 un-redeemed S. I. M. points. Call 08719899229 Identifier Code: 40411 Expires 06/11/04\n",
            "ham  spam  Apo all other are mokka players only\n",
            "ham  spam  Perhaps * is much easy give your account identification, so i will tomorrow at UNI\n",
            "ham  spam  Wait . I will msg after  &lt;#&gt;  min.\n",
            "ham  spam  What i told before i tell. Stupid hear after i wont tell anything to you. You dad called to my brother and spoken. Not with me.\n",
            "ham  spam  God's love has no limit. God's grace has no measure. God's power has no boundaries. May u have God's endless blessings always in ur life...!! Gud ni8\n",
            "ham  spam  I want to be inside you every night...\n",
            "ham  spam  Machan you go to gym tomorrow,  i wil come late goodnight.\n",
            "ham  spam  Lol they were mad at first but then they woke up and gave in.\n",
            "ham  spam  I went to project centre\n",
            "ham  ham  It‘s reassuring, in this crazy world.\n",
            "ham  spam  Just making dinner, you ?\n",
            "ham  spam  Yes. Please leave at  &lt;#&gt; . So that at  &lt;#&gt;  we can leave\n",
            "ham  spam  Oh... Okie lor...We go on sat... \n",
            "ham  spam  You are a great role model. You are giving so much and i really wish each day for a miracle but God as a reason for everything and i must say i wish i knew why but i dont. I've looked up to you since i was young and i still do. Have a great day.\n",
            "ham  spam  Ya, i'm referin to mei's ex wat... No ah, waitin 4 u to treat, somebody shld b rich liao...So gd, den u dun have to work frm tmr onwards...\n",
            "ham  spam  Miles and smiles r made frm same letters but do u know d difference..? smile on ur face keeps me happy even though I am miles away from u.. :-)keep smiling.. Good nyt\n",
            "ham  spam  By the way, i've put a skip right outside the front of the house so you can see which house it is. Just pull up before it.\n",
            "ham  ham  Can you pls send me that company name. In saibaba colany\n",
            "ham  spam  No. I dont want to hear anything\n",
            "ham  spam  You are a big chic. Common. Declare\n",
            "ham  spam  Thats cool. I want to please you...\n",
            "ham  ham  Going to join tomorrow.\n",
            "spam  ham  You are awarded a SiPix Digital Camera! call 09061221061 from landline. Delivery within 28days. T Cs Box177. M221BP. 2yr warranty. 150ppm. 16 . p p£3.99\n",
            "ham  spam  I want to tell you how bad I feel that basically the only times I text you lately are when I need drugs\n",
            "spam  spam  PRIVATE! Your 2003 Account Statement for shows 800 un-redeemed S.I.M. points. Call 08718738001 Identifier Code: 49557 Expires 26/11/04\n",
            "ham  spam  Total disappointment, when I texted you was the craziest shit got :(\n",
            "ham  spam  Its just the effect of irritation. Just ignore it\n",
            "ham  ham  What about this one then.\n",
            "ham  spam  I think that tantrum's finished so yeah I'll be by at some point\n",
            "ham  spam  Compliments to you. Was away from the system. How your side.\n",
            "ham  spam  happened here while you were adventuring\n",
            "ham  spam  Hey chief, can you give me a bell when you get this. Need to talk to you about this royal visit on the 1st june. \n",
            "ham  ham  Ok which your another number\n",
            "ham  spam  I know you are thinkin malaria. But relax, children cant handle malaria. She would have been worse and its gastroenteritis. If she takes enough to replace her loss her temp will reduce. And if you give her malaria meds now she will just vomit. Its a self limiting illness she has which means in a few days it will completely stop\n",
            "ham  spam  Aiyah ok wat as long as got improve can already wat...\n",
            "spam  ham  Want explicit SEX in 30 secs? Ring 02073162414 now! Costs 20p/min Gsex POBOX 2667 WC1N 3XX\n",
            "ham  spam  I can't believe how attached I am to seeing you every day. I know you will do the best you can to get to me babe. I will go to teach my class at your midnight\n",
            "ham  spam  Just sleeping..and surfing\n",
            "spam  spam  ASKED 3MOBILE IF 0870 CHATLINES INCLU IN FREE MINS. INDIA CUST SERVs SED YES. L8ER GOT MEGA BILL. 3 DONT GIV A SHIT. BAILIFF DUE IN DAYS. I O £250 3 WANT £800\n",
            "ham  spam  Yeah it's jus rite...\n",
            "ham  spam  Armand says get your ass over to epsilon\n",
            "ham  spam  U still havent got urself a jacket ah?\n",
            "ham  spam  I'm taking derek &amp; taylor to walmart, if I'm not back by the time you're done just leave the mouse on my desk and I'll text you when priscilla's ready\n",
            "ham  spam  Hi its in durban are you still on this number\n",
            "ham  spam  Ic. There are a lotta childporn cars then.\n",
            "spam  ham  Had your contract mobile 11 Mnths? Latest Motorola, Nokia etc. all FREE! Double Mins & Text on Orange tariffs. TEXT YES for callback, no to remove from records.\n",
            "ham  ham  No, I was trying it all weekend ;V\n",
            "ham  spam  You know, wot people wear. T shirts, jumpers, hat, belt, is all we know. We r at Cribbs\n",
            "ham  ham  Cool, what time you think you can get here?\n",
            "ham  spam  Wen did you get so spiritual and deep. That's great\n",
            "ham  spam  Have a safe trip to Nigeria. Wish you happiness and very soon company to share moments with\n",
            "ham  spam  Hahaha..use your brain dear\n",
            "ham  ham  Well keep in mind I've only got enough gas for one more round trip barring a sudden influx of cash\n",
            "ham  spam  Yeh. Indians was nice. Tho it did kane me off a bit he he. We shud go out 4 a drink sometime soon. Mite hav 2 go 2 da works 4 a laugh soon. Love Pete x x\n",
            "ham  spam  Yes i have. So that's why u texted. Pshew...missing you so much\n",
            "ham  spam  No. I meant the calculation is the same. That  &lt;#&gt; units at  &lt;#&gt; . This school is really expensive. Have you started practicing your accent. Because its important. And have you decided if you are doing 4years of dental school or if you'll just do the nmde exam.\n",
            "ham  ham  Sorry, I'll call later\n",
            "ham  spam  if you aren't here in the next  &lt;#&gt;  hours imma flip my shit\n",
            "ham  spam  Anything lor. Juz both of us lor.\n",
            "ham  spam  Get me out of this dump heap. My mom decided to come to lowes. BORING.\n",
            "ham  spam  Ok lor... Sony ericsson salesman... I ask shuhui then she say quite gd 2 use so i considering...\n",
            "ham  spam  Ard 6 like dat lor.\n",
            "ham  spam  Why don't you wait 'til at least wednesday to see if you get your .\n",
            "ham  spam  Huh y lei...\n",
            "spam  spam  REMINDER FROM O2: To get 2.50 pounds free call credit and details of great offers pls reply 2 this text with your valid name, house no and postcode\n",
            "spam  ham  This is the 2nd time we have tried 2 contact u. U have won the £750 Pound prize. 2 claim is easy, call 087187272008 NOW1! Only 10p per minute. BT-national-rate.\n",
            "ham  spam  Will ü b going to esplanade fr home?\n",
            "ham  spam  Pity, * was in mood for that. So...any other suggestions?\n",
            "ham  spam  The guy did some bitching but I acted like i'd be interested in buying something else next week and he gave it to us for free\n",
            "ham  spam  Rofl. Its true to its name\n"
          ]
        }
      ]
    },
    {
      "cell_type": "code",
      "source": [],
      "metadata": {
        "id": "sZExjCf1KjeJ"
      },
      "execution_count": null,
      "outputs": []
    },
    {
      "cell_type": "markdown",
      "source": [
        "# Naive bayes using sklearn algo"
      ],
      "metadata": {
        "id": "tucY3EsxbNkr"
      }
    },
    {
      "cell_type": "code",
      "source": [
        "from sklearn.naive_bayes import MultinomialNB"
      ],
      "metadata": {
        "id": "jVTlIsHdWe7K"
      },
      "execution_count": null,
      "outputs": []
    },
    {
      "cell_type": "code",
      "source": [
        "from sklearn.feature_extraction.text import TfidfVectorizer\n",
        "from sklearn.model_selection import train_test_split\n",
        "from sklearn.naive_bayes import MultinomialNB\n",
        "from sklearn.metrics import accuracy_score, classification_report\n",
        "\n",
        "# Example text data and labels (replace with your actual data)\n",
        "texts = df['SMS'][:5550]\n",
        "labels = df['Label'][:5550]  # 1 for spam, 0 for not spam\n",
        "\n",
        "# Convert text data to TF-IDF features\n",
        "vectorizer = TfidfVectorizer()\n",
        "X = vectorizer.fit_transform(texts)\n",
        "\n",
        "# Split data into training and testing sets\n",
        "X_train, X_test, y_train, y_test = train_test_split(X, labels, test_size=0.25, random_state=42)\n",
        "\n",
        "# Initialize and train Multinomial Naive Bayes\n",
        "model = MultinomialNB()\n",
        "model.fit(X_train, y_train)\n",
        "\n",
        "# Predict and evaluate\n",
        "y_pred = model.predict(X_test)\n",
        "print(\"Accuracy:\", accuracy_score(y_test, y_pred))\n",
        "print(\"Classification Report:\\n\", classification_report(y_test, y_pred))\n"
      ],
      "metadata": {
        "id": "qbBUKfLwcdJT",
        "colab": {
          "base_uri": "https://localhost:8080/"
        },
        "outputId": "2b57fcad-6af7-4d57-85a9-0a5e89fa1711"
      },
      "execution_count": null,
      "outputs": [
        {
          "output_type": "stream",
          "name": "stdout",
          "text": [
            "Accuracy: 0.9632564841498559\n",
            "Classification Report:\n",
            "               precision    recall  f1-score   support\n",
            "\n",
            "         ham       0.96      1.00      0.98      1204\n",
            "        spam       1.00      0.72      0.84       184\n",
            "\n",
            "    accuracy                           0.96      1388\n",
            "   macro avg       0.98      0.86      0.91      1388\n",
            "weighted avg       0.96      0.96      0.96      1388\n",
            "\n"
          ]
        }
      ]
    },
    {
      "cell_type": "code",
      "source": [
        "# x_train"
      ],
      "metadata": {
        "id": "j5AVdKIjAgVw"
      },
      "execution_count": null,
      "outputs": []
    },
    {
      "cell_type": "code",
      "source": [
        "from sklearn.feature_extraction.text import TfidfVectorizer\n",
        "from sklearn.naive_bayes import MultinomialNB\n",
        "from sklearn.metrics import accuracy_score, classification_report\n",
        "\n",
        "# Assuming `df` is your DataFrame containing 'SMS' and 'Label' columns\n",
        "x_train = list(df['SMS'][:5550])\n",
        "y_train = list(df['Label'][:5550])\n",
        "x_test = list(df['SMS'][5550:])\n",
        "y_test = list(df['Label'][5550:])\n",
        "\n",
        "# Convert the SMS text data to TF-IDF features\n",
        "vectorizer = TfidfVectorizer()\n",
        "X_train_transformed = vectorizer.fit_transform(x_train)\n",
        "X_test_transformed = vectorizer.transform(x_test)\n",
        "\n",
        "# Initialize and train Multinomial Naive Bayes\n",
        "model = MultinomialNB()\n",
        "model.fit(X_train_transformed, y_train)\n",
        "\n",
        "# Predict and evaluate\n",
        "y_pred = model.predict(X_test_transformed)\n",
        "print(\"Accuracy:\", accuracy_score(y_test, y_pred))\n",
        "print(\"Classification Report:\\n\", classification_report(y_test, y_pred))\n"
      ],
      "metadata": {
        "colab": {
          "base_uri": "https://localhost:8080/"
        },
        "id": "PGni3lZh8hCC",
        "outputId": "04d8226f-a1a7-47b4-f7e0-021955fb068f"
      },
      "execution_count": null,
      "outputs": [
        {
          "output_type": "stream",
          "name": "stdout",
          "text": [
            "Accuracy: 0.9545454545454546\n",
            "Classification Report:\n",
            "               precision    recall  f1-score   support\n",
            "\n",
            "         ham       0.95      1.00      0.98        20\n",
            "        spam       1.00      0.50      0.67         2\n",
            "\n",
            "    accuracy                           0.95        22\n",
            "   macro avg       0.98      0.75      0.82        22\n",
            "weighted avg       0.96      0.95      0.95        22\n",
            "\n"
          ]
        }
      ]
    },
    {
      "cell_type": "code",
      "source": [],
      "metadata": {
        "id": "KR180LVIAJK4"
      },
      "execution_count": null,
      "outputs": []
    }
  ]
}